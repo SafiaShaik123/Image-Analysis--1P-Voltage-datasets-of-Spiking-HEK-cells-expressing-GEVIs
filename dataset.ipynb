{
 "cells": [
  {
   "cell_type": "code",
   "execution_count": 1,
   "id": "cdc1be2d-5efc-42ba-b382-8d7f51d57c19",
   "metadata": {},
   "outputs": [],
   "source": [
    "# Code defines a dataset class that loads images and masks from disk, converts them to tensors, and applies a threshold to the masks to create binary masks"
   ]
  },
  {
   "cell_type": "code",
   "execution_count": 1,
   "id": "d1de6735-f554-4eeb-82a8-adbabeb4c510",
   "metadata": {},
   "outputs": [
    {
     "name": "stderr",
     "output_type": "stream",
     "text": [
      "C:\\anaconda3\\envs\\caiman\\lib\\site-packages\\torchvision\\io\\image.py:13: UserWarning: Failed to load image Python extension: '[WinError 127] The specified procedure could not be found'If you don't plan on using image functionality from `torchvision.io`, you can ignore this warning. Otherwise, there might be something wrong with your environment. Did you have `libjpeg` or `libpng` installed before building `torchvision` from source?\n",
      "  warn(\n"
     ]
    }
   ],
   "source": [
    "import os\n",
    "from PIL import Image\n",
    "import numpy as np\n",
    "import torch\n",
    "from torch.utils.data import Dataset, DataLoader\n",
    "from torchvision.transforms.functional import to_tensor"
   ]
  },
  {
   "cell_type": "code",
   "execution_count": 2,
   "id": "217a78aa-08ce-4fd1-934d-f3fceb3a03f3",
   "metadata": {},
   "outputs": [],
   "source": [
    "class CustomDataset(Dataset):\n",
    "    def __init__(self, root_dir, transform=None):\n",
    "        self.root_dir = root_dir\n",
    "        self.transform = transform #optional transformation (transform) to be applied to the images and masks\n",
    "        self.image_list = os.listdir(os.path.join(root_dir, 'images_z_projections'))\n",
    "        self.mask_list = os.listdir(os.path.join(root_dir, 'manual_masks_z_projections'))\n",
    "        \n",
    "    def __len__(self):\n",
    "        return len(self.image_list)\n",
    "        \n",
    "    def __getitem__(self, idx):\n",
    "        img_name = os.path.join(self.root_dir, 'images_z_projections', self.image_list[idx])\n",
    "        mask_name = os.path.join(self.root_dir, 'manual_masks_z_projections', self.mask_list[idx])\n",
    "        image = Image.open(img_name)\n",
    "        mask = Image.open(mask_name)\n",
    "       \n",
    "        image = to_tensor(image) #Converting the PIL images to PyTorch tensors \n",
    "        mask = to_tensor(mask)   \n",
    "\n",
    "        return image, mask #Returns the image tensor and the binary mask tensor as a tuple."
   ]
  },
  {
   "cell_type": "code",
   "execution_count": 3,
   "id": "de57fc9d-fd9b-4c93-9d1e-e54c70b9d0f8",
   "metadata": {},
   "outputs": [],
   "source": [
    "dataset = CustomDataset(root_dir='W:/staff-groups/tnw/ist/do/projects/Neurophotonics/Brinkslab/Data/Safia/intensity_segmentation')"
   ]
  },
  {
   "cell_type": "code",
   "execution_count": 4,
   "id": "afa76915-6815-486c-87a2-9f67c36fdc62",
   "metadata": {},
   "outputs": [],
   "source": [
    "#val_loader = DataLoader(dataset, batch_size=5, shuffle=False)\n",
    "data_loader = DataLoader(dataset, batch_size=10, shuffle=True)"
   ]
  },
  {
   "cell_type": "code",
   "execution_count": 6,
   "id": "b976cc83-db1b-45d3-920d-b12d9979fde6",
   "metadata": {},
   "outputs": [],
   "source": [
    "# Iterate over batches of data\n",
    "#for images, masks in data_loader:\n",
    "    #print(\"Image batch size:\", images.size())\n",
    "    #print(\"Mask batch size:\", masks.size())\n",
    "    #break  # For demonstration, stop after the first batch"
   ]
  },
  {
   "cell_type": "code",
   "execution_count": null,
   "id": "1a64013b-56ad-4f84-84d3-1ac0ec55d591",
   "metadata": {},
   "outputs": [],
   "source": []
  }
 ],
 "metadata": {
  "kernelspec": {
   "display_name": "Python 3 (ipykernel)",
   "language": "python",
   "name": "python3"
  },
  "language_info": {
   "codemirror_mode": {
    "name": "ipython",
    "version": 3
   },
   "file_extension": ".py",
   "mimetype": "text/x-python",
   "name": "python",
   "nbconvert_exporter": "python",
   "pygments_lexer": "ipython3",
   "version": "3.10.8"
  }
 },
 "nbformat": 4,
 "nbformat_minor": 5
}
