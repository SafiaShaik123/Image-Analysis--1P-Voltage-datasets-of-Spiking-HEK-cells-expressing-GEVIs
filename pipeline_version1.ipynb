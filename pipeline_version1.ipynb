{
 "cells": [
  {
   "cell_type": "code",
   "execution_count": 1,
   "id": "b35ba373-edba-4dad-b361-d8f79ccb85f3",
   "metadata": {},
   "outputs": [
    {
     "name": "stderr",
     "output_type": "stream",
     "text": [
      "C:\\anaconda3\\envs\\caiman\\lib\\site-packages\\torchvision\\io\\image.py:13: UserWarning: Failed to load image Python extension: '[WinError 127] The specified procedure could not be found'If you don't plan on using image functionality from `torchvision.io`, you can ignore this warning. Otherwise, there might be something wrong with your environment. Did you have `libjpeg` or `libpng` installed before building `torchvision` from source?\n",
      "  warn(\n"
     ]
    }
   ],
   "source": [
    "from IPython import get_ipython\n",
    "import logging\n",
    "import numpy as np\n",
    "from skimage import io\n",
    "from skimage import color\n",
    "from skimage import exposure\n",
    "from skimage import img_as_ubyte\n",
    "from skimage import transform\n",
    "import tifffile\n",
    "\n",
    "try:\n",
    "    cv2.setNumThreads(0)\n",
    "except:\n",
    "    pass\n",
    "\n",
    "logging.basicConfig(format=\n",
    "                    \"%(relativeCreated)12d [%(filename)s:%(funcName)20s():%(lineno)s]\" \\\n",
    "                    \"[%(process)d] %(message)s\",\n",
    "                    level=logging.ERROR)\n",
    "\n",
    "import caiman as cm\n",
    "from caiman.motion_correction import MotionCorrect\n",
    "from caiman.source_extraction.volpy.volparams import volparams\n",
    "from caiman.summary_images import local_correlations_movie_offline\n",
    "from caiman.summary_images import mean_image\n",
    "import matplotlib.pyplot as plt\n",
    "import torch\n",
    "import torch.nn as nn\n",
    "import torch.optim as optim\n",
    "from torch.utils.data import DataLoader\n",
    "from torchvision import transforms\n",
    "%run unet.ipynb\n",
    "from PIL import Image\n",
    "import cv2\n",
    "from scipy.interpolate import interp1d\n",
    "from scipy.signal import medfilt\n",
    "from scipy.signal import savgol_filter\n",
    "from scipy.optimize import curve_fit"
   ]
  },
  {
   "cell_type": "code",
   "execution_count": 2,
   "id": "0b1f79cf-0db6-4f7f-a7f6-a5a3709790d9",
   "metadata": {},
   "outputs": [],
   "source": [
    "#load movie\n",
    "movie = 'W:/staff-groups/tnw/ist/do/projects/Neurophotonics/Brinkslab/Data/Safia/2048x1016 200 fps FOV10.TIF'\n",
    "movie_array = tifffile.imread(movie)"
   ]
  },
  {
   "cell_type": "code",
   "execution_count": 3,
   "id": "09bcc8ca-c21c-40ca-ba59-e0da32fe263e",
   "metadata": {},
   "outputs": [],
   "source": [
    "#Display the movie\n",
    "m_orig = cm.movie(np.array(movie_array, dtype=movie_array.dtype))"
   ]
  },
  {
   "cell_type": "code",
   "execution_count": 4,
   "id": "c1592e2c-9dcc-40cd-bd62-8fbec21f9dfe",
   "metadata": {},
   "outputs": [],
   "source": [
    "# Setup parameters for motion correction\n",
    "max_shifts = (5, 5)  #maximum allowed rigid shift in pixels (view the movie to get a sense of motion)\n",
    "strides =  (48, 48)  #create a new patch every x pixels for pw-rigid correction\n",
    "overlaps = (24, 24)  #overlap between patches (size of patch strides+overlaps)\n",
    "max_deviation_rigid = 3  #maximum deviation allowed for patch with respect to rigid shifts\n",
    "pw_rigid = False  # flag for performing rigid or piecewise rigid motion correction\n",
    "border_nan = 'copy' \n",
    "frate = 500                      #movie frame rate\n",
    "gSig_filt = (3, 3)               #size of gaussian filter to separate background from foreground\n",
    "\n",
    "opts_dict = {\n",
    "    'fnames': movie_array,\n",
    "    'fr': frate,\n",
    "    'pw_rigid': pw_rigid,\n",
    "    'max_shifts': max_shifts,\n",
    "    'gSig_filt': gSig_filt,\n",
    "    'strides': strides,\n",
    "    'overlaps': overlaps,\n",
    "    'max_deviation_rigid': max_deviation_rigid,\n",
    "    'border_nan': border_nan\n",
    "}\n",
    "\n",
    "opts = volparams(params_dict=opts_dict)"
   ]
  },
  {
   "cell_type": "code",
   "execution_count": 5,
   "id": "374fbaae-f10c-428e-ba9b-c206acb34f46",
   "metadata": {},
   "outputs": [],
   "source": [
    "#cluster for fast processing\n",
    "c, dview, n_processes = cm.cluster.setup_cluster(\n",
    "    backend='multiprocessing', n_processes=None, single_thread=False)"
   ]
  },
  {
   "cell_type": "code",
   "execution_count": 6,
   "id": "a330f54c-c611-444a-8720-738604f633fa",
   "metadata": {},
   "outputs": [
    {
     "data": {
      "text/plain": [
       "<caiman.motion_correction.MotionCorrect at 0x1cb27715e70>"
      ]
     },
     "execution_count": 6,
     "metadata": {},
     "output_type": "execute_result"
    }
   ],
   "source": [
    "# Create a motion correction object with the specified parameters\n",
    "mc = MotionCorrect(movie_array, dview = dview, **opts.get_group('motion'))\n",
    "mc.motion_correct(save_movie=True)"
   ]
  },
  {
   "cell_type": "code",
   "execution_count": 16,
   "id": "c1c9cd9b-3ed0-4bf6-9e7c-f447b96534ff",
   "metadata": {},
   "outputs": [
    {
     "name": "stderr",
     "output_type": "stream",
     "text": [
      "100%|████████████████████████████████████████████████████████████████████████████████████| 1/1 [00:12<00:00, 12.98s/it]\n"
     ]
    }
   ],
   "source": [
    "m_rig = cm.load(mc.mmap_file)\n",
    "m_rig = np.array(m_rig, dtype=movie_array.dtype)\n",
    "m_rig = cm.movie(m_rig)"
   ]
  },
  {
   "cell_type": "code",
   "execution_count": 7,
   "id": "c964ddcd-ae4d-464e-a5ff-1962fb570698",
   "metadata": {},
   "outputs": [],
   "source": [
    "# Memory mapping for fast processing\n",
    "border_to_0 = 0 if mc.border_nan == 'copy' else mc.border_to_0\n",
    "fname_new = cm.save_memmap_join(mc.mmap_file, base_name='memmap_',\n",
    "                           add_to_mov=border_to_0, dview=dview, n_chunks=10)"
   ]
  },
  {
   "cell_type": "code",
   "execution_count": 8,
   "id": "0722573a-1e4c-4f35-9fa5-f5200338170d",
   "metadata": {},
   "outputs": [],
   "source": [
    "# Segmentation using U-Net\n",
    "image = mean_image(mc.mmap_file[0], window = 1000, dview=dview)\n",
    "image = (image-np.mean(image))/np.std(image) #normalizing the mean image. A common technique to scale the pixel values and improve the contrast in the image.\n",
    "\n",
    "gaussian_blur = False ###\n",
    "Cn = local_correlations_movie_offline(mc.mmap_file[0], fr=frate, window=frate*4, \n",
    "                                      stride=frate*4, winSize_baseline=frate, \n",
    "                                      remove_baseline=True, gaussian_blur=gaussian_blur,\n",
    "                                      dview=dview).max(axis=0)#local correlations in the movie calculated. Correlation image obtained by taking the maximum correlation across all frames. \n",
    "\n",
    "img_corr = (Cn-np.mean(Cn))/np.std(Cn) #normalizing the correlation image.\n",
    "\n",
    "summary_images = np.stack([image, image, img_corr], axis=0).astype(np.float32) \n",
    "#stacks the mean image and the correlation image into a single array along the first axis, effectively creating a 3-channel image. The duplication ([img, img, img_corr]) is done to match the format expected by the VolPy GUI.\n",
    "image_mean_corr=summary_images.transpose([1, 2, 0])"
   ]
  },
  {
   "cell_type": "code",
   "execution_count": 9,
   "id": "5490094e-7afb-434e-bb68-77ca3c106a38",
   "metadata": {
    "scrolled": true
   },
   "outputs": [
    {
     "data": {
      "text/plain": [
       "UNet(\n",
       "  (inc): DoubleConv(\n",
       "    (double_conv): Sequential(\n",
       "      (0): Conv2d(3, 64, kernel_size=(3, 3), stride=(1, 1), padding=(1, 1), bias=False)\n",
       "      (1): BatchNorm2d(64, eps=1e-05, momentum=0.1, affine=True, track_running_stats=True)\n",
       "      (2): ReLU(inplace=True)\n",
       "      (3): Conv2d(64, 64, kernel_size=(3, 3), stride=(1, 1), padding=(1, 1), bias=False)\n",
       "      (4): BatchNorm2d(64, eps=1e-05, momentum=0.1, affine=True, track_running_stats=True)\n",
       "      (5): ReLU(inplace=True)\n",
       "    )\n",
       "  )\n",
       "  (down1): Down(\n",
       "    (maxpool_conv): Sequential(\n",
       "      (0): DoubleConv(\n",
       "        (double_conv): Sequential(\n",
       "          (0): Conv2d(64, 128, kernel_size=(3, 3), stride=(1, 1), padding=(1, 1), bias=False)\n",
       "          (1): BatchNorm2d(128, eps=1e-05, momentum=0.1, affine=True, track_running_stats=True)\n",
       "          (2): ReLU(inplace=True)\n",
       "          (3): Conv2d(128, 128, kernel_size=(3, 3), stride=(1, 1), padding=(1, 1), bias=False)\n",
       "          (4): BatchNorm2d(128, eps=1e-05, momentum=0.1, affine=True, track_running_stats=True)\n",
       "          (5): ReLU(inplace=True)\n",
       "        )\n",
       "      )\n",
       "      (1): MaxPool2d(kernel_size=2, stride=2, padding=0, dilation=1, ceil_mode=False)\n",
       "    )\n",
       "  )\n",
       "  (down2): Down(\n",
       "    (maxpool_conv): Sequential(\n",
       "      (0): DoubleConv(\n",
       "        (double_conv): Sequential(\n",
       "          (0): Conv2d(128, 256, kernel_size=(3, 3), stride=(1, 1), padding=(1, 1), bias=False)\n",
       "          (1): BatchNorm2d(256, eps=1e-05, momentum=0.1, affine=True, track_running_stats=True)\n",
       "          (2): ReLU(inplace=True)\n",
       "          (3): Conv2d(256, 256, kernel_size=(3, 3), stride=(1, 1), padding=(1, 1), bias=False)\n",
       "          (4): BatchNorm2d(256, eps=1e-05, momentum=0.1, affine=True, track_running_stats=True)\n",
       "          (5): ReLU(inplace=True)\n",
       "        )\n",
       "      )\n",
       "      (1): MaxPool2d(kernel_size=2, stride=2, padding=0, dilation=1, ceil_mode=False)\n",
       "    )\n",
       "  )\n",
       "  (down3): Down(\n",
       "    (maxpool_conv): Sequential(\n",
       "      (0): DoubleConv(\n",
       "        (double_conv): Sequential(\n",
       "          (0): Conv2d(256, 512, kernel_size=(3, 3), stride=(1, 1), padding=(1, 1), bias=False)\n",
       "          (1): BatchNorm2d(512, eps=1e-05, momentum=0.1, affine=True, track_running_stats=True)\n",
       "          (2): ReLU(inplace=True)\n",
       "          (3): Conv2d(512, 512, kernel_size=(3, 3), stride=(1, 1), padding=(1, 1), bias=False)\n",
       "          (4): BatchNorm2d(512, eps=1e-05, momentum=0.1, affine=True, track_running_stats=True)\n",
       "          (5): ReLU(inplace=True)\n",
       "        )\n",
       "      )\n",
       "      (1): MaxPool2d(kernel_size=2, stride=2, padding=0, dilation=1, ceil_mode=False)\n",
       "    )\n",
       "  )\n",
       "  (down4): Down(\n",
       "    (maxpool_conv): Sequential(\n",
       "      (0): DoubleConv(\n",
       "        (double_conv): Sequential(\n",
       "          (0): Conv2d(512, 1024, kernel_size=(3, 3), stride=(1, 1), padding=(1, 1), bias=False)\n",
       "          (1): BatchNorm2d(1024, eps=1e-05, momentum=0.1, affine=True, track_running_stats=True)\n",
       "          (2): ReLU(inplace=True)\n",
       "          (3): Conv2d(1024, 1024, kernel_size=(3, 3), stride=(1, 1), padding=(1, 1), bias=False)\n",
       "          (4): BatchNorm2d(1024, eps=1e-05, momentum=0.1, affine=True, track_running_stats=True)\n",
       "          (5): ReLU(inplace=True)\n",
       "        )\n",
       "      )\n",
       "      (1): MaxPool2d(kernel_size=2, stride=2, padding=0, dilation=1, ceil_mode=False)\n",
       "    )\n",
       "  )\n",
       "  (up1): Up(\n",
       "    (up): ConvTranspose2d(1024, 512, kernel_size=(2, 2), stride=(2, 2))\n",
       "    (conv): DoubleConv(\n",
       "      (double_conv): Sequential(\n",
       "        (0): Conv2d(1024, 512, kernel_size=(3, 3), stride=(1, 1), padding=(1, 1), bias=False)\n",
       "        (1): BatchNorm2d(512, eps=1e-05, momentum=0.1, affine=True, track_running_stats=True)\n",
       "        (2): ReLU(inplace=True)\n",
       "        (3): Conv2d(512, 512, kernel_size=(3, 3), stride=(1, 1), padding=(1, 1), bias=False)\n",
       "        (4): BatchNorm2d(512, eps=1e-05, momentum=0.1, affine=True, track_running_stats=True)\n",
       "        (5): ReLU(inplace=True)\n",
       "      )\n",
       "    )\n",
       "  )\n",
       "  (up2): Up(\n",
       "    (up): ConvTranspose2d(512, 256, kernel_size=(2, 2), stride=(2, 2))\n",
       "    (conv): DoubleConv(\n",
       "      (double_conv): Sequential(\n",
       "        (0): Conv2d(512, 256, kernel_size=(3, 3), stride=(1, 1), padding=(1, 1), bias=False)\n",
       "        (1): BatchNorm2d(256, eps=1e-05, momentum=0.1, affine=True, track_running_stats=True)\n",
       "        (2): ReLU(inplace=True)\n",
       "        (3): Conv2d(256, 256, kernel_size=(3, 3), stride=(1, 1), padding=(1, 1), bias=False)\n",
       "        (4): BatchNorm2d(256, eps=1e-05, momentum=0.1, affine=True, track_running_stats=True)\n",
       "        (5): ReLU(inplace=True)\n",
       "      )\n",
       "    )\n",
       "  )\n",
       "  (up3): Up(\n",
       "    (up): ConvTranspose2d(256, 128, kernel_size=(2, 2), stride=(2, 2))\n",
       "    (conv): DoubleConv(\n",
       "      (double_conv): Sequential(\n",
       "        (0): Conv2d(256, 128, kernel_size=(3, 3), stride=(1, 1), padding=(1, 1), bias=False)\n",
       "        (1): BatchNorm2d(128, eps=1e-05, momentum=0.1, affine=True, track_running_stats=True)\n",
       "        (2): ReLU(inplace=True)\n",
       "        (3): Conv2d(128, 128, kernel_size=(3, 3), stride=(1, 1), padding=(1, 1), bias=False)\n",
       "        (4): BatchNorm2d(128, eps=1e-05, momentum=0.1, affine=True, track_running_stats=True)\n",
       "        (5): ReLU(inplace=True)\n",
       "      )\n",
       "    )\n",
       "  )\n",
       "  (up4): Up(\n",
       "    (up): ConvTranspose2d(128, 64, kernel_size=(2, 2), stride=(2, 2))\n",
       "    (conv): DoubleConv(\n",
       "      (double_conv): Sequential(\n",
       "        (0): Conv2d(128, 64, kernel_size=(3, 3), stride=(1, 1), padding=(1, 1), bias=False)\n",
       "        (1): BatchNorm2d(64, eps=1e-05, momentum=0.1, affine=True, track_running_stats=True)\n",
       "        (2): ReLU(inplace=True)\n",
       "        (3): Conv2d(64, 64, kernel_size=(3, 3), stride=(1, 1), padding=(1, 1), bias=False)\n",
       "        (4): BatchNorm2d(64, eps=1e-05, momentum=0.1, affine=True, track_running_stats=True)\n",
       "        (5): ReLU(inplace=True)\n",
       "      )\n",
       "    )\n",
       "  )\n",
       "  (outc): OutConv(\n",
       "    (conv): Conv2d(64, 1, kernel_size=(1, 1), stride=(1, 1))\n",
       "  )\n",
       ")"
      ]
     },
     "execution_count": 9,
     "metadata": {},
     "output_type": "execute_result"
    }
   ],
   "source": [
    "unet = UNet(in_channels=3, out_classes=1)  \n",
    "unet.load_state_dict(torch.load('unet.pth'))\n",
    "unet.eval() "
   ]
  },
  {
   "cell_type": "code",
   "execution_count": 10,
   "id": "9e815afc-136e-40c5-b501-a14af392dc85",
   "metadata": {},
   "outputs": [],
   "source": [
    "image_mean_corr = np.clip(image_mean_corr, 0, 1)\n",
    "img = Image.fromarray((image_mean_corr * 255).astype(np.uint8))\n",
    "\n",
    "transform = transforms.Compose([\n",
    "    transforms.Resize((109, 496)),  # Resize input image to match model's input size\n",
    "    transforms.ToTensor(),\n",
    "])\n",
    "\n",
    "input_tensor = transform(img).unsqueeze(0)  \n",
    "\n",
    "device = torch.device('cuda' if torch.cuda.is_available() else 'cpu')\n",
    "input_tensor = input_tensor.to(device)\n",
    "\n",
    "# Passing the input tensor through the model to get predictions\n",
    "with torch.no_grad():\n",
    "    output_mask = unet(input_tensor)"
   ]
  },
  {
   "cell_type": "code",
   "execution_count": 11,
   "id": "1c335cfa-dfc3-4ef4-8c76-54e6d6a60801",
   "metadata": {},
   "outputs": [
    {
     "data": {
      "image/png": "[encoded data removed]",
      "text/plain": [
       "<Figure size 640x480 with 1 Axes>"
      ]
     },
     "metadata": {},
     "output_type": "display_data"
    }
   ],
   "source": [
    "# mask generation\n",
    "output_mask_np = output_mask.squeeze().cpu().numpy()\n",
    "output_mask_inverted = 255 - output_mask_np\n",
    "\n",
    "threshold = 255\n",
    "output_mask_thresholded = (output_mask_inverted > threshold) * 255\n",
    "\n",
    "plt.imshow(output_mask_thresholded, cmap='binary')\n",
    "plt.title('Predicted Mask')\n",
    "plt.axis('off') \n",
    "plt.show()"
   ]
  },
  {
   "cell_type": "code",
   "execution_count": 12,
   "id": "9c2e519e-eb09-4dc8-a8ef-e6a6e9232779",
   "metadata": {},
   "outputs": [],
   "source": [
    "from skimage import transform\n",
    "rgb_image_np = np.array(img)\n",
    "new_ht = 109\n",
    "new_width = 496\n",
    "resized_image = transform.resize(rgb_image_np, (new_ht, new_width))\n",
    "resized_image = Image.fromarray(np.uint8(resized_image * 255))"
   ]
  },
  {
   "cell_type": "code",
   "execution_count": 13,
   "id": "209ea290-ae97-4a6a-8c9b-c92dc120f04a",
   "metadata": {},
   "outputs": [],
   "source": [
    "mask = np.array(output_mask_thresholded)\n",
    "mask_np = mask.astype(np.uint8)\n",
    "img_np = np.array(resized_image)"
   ]
  },
  {
   "cell_type": "code",
   "execution_count": 14,
   "id": "c90fe28b-ebb5-4793-a90d-bc024e4058b6",
   "metadata": {},
   "outputs": [],
   "source": [
    "binary_mask = mask_np.copy()\n",
    "binary_mask[binary_mask > 0] = 1\n",
    "inverted_mask = 1 - binary_mask\n",
    "mask_resized_inv = cv2.resize(inverted_mask, (m_rig.shape[2], m_rig.shape[1]))"
   ]
  },
  {
   "cell_type": "code",
   "execution_count": 20,
   "id": "5180a669-988c-4a8a-8292-b9755e44e334",
   "metadata": {},
   "outputs": [
    {
     "data": {
      "image/png": "[encoded data removed]",
      "text/plain": [
       "<Figure size 640x480 with 1 Axes>"
      ]
     },
     "metadata": {},
     "output_type": "display_data"
    }
   ],
   "source": [
    "#sensitivity calculations\n",
    "#dilating the mask \n",
    "kernel = np.ones((5, 5), np.uint8)\n",
    "#mask_np_dilated_1 = cv2.dilate(inverted_mask, kernel, iterations=5)\n",
    "mask_np_dilated_1 = cv2.dilate(mask_resized_inv, kernel, iterations=5)\n",
    "#mask_np_dilated_2 = cv2.dilate(inverted_mask, kernel, iterations=4)\n",
    "mask_np_dilated_2 = cv2.dilate(mask_resized_inv, kernel, iterations=4)\n",
    "\n",
    "mask_bg = mask_np_dilated_1 - mask_np_dilated_2\n",
    "mask_bg = 1-mask_bg\n",
    "\n",
    "binary_mask_bg = mask_bg.copy()\n",
    "binary_mask_bg[binary_mask_bg > 0] = 1\n",
    "\n",
    "\n",
    "plt.imshow(binary_mask_bg, cmap = 'binary')\n",
    "plt.axis('off')\n",
    "plt.title('Background mask')\n",
    "plt.show()"
   ]
  },
  {
   "cell_type": "code",
   "execution_count": 22,
   "id": "ae7a0410-a62d-4a18-a41a-55a5ebddac41",
   "metadata": {},
   "outputs": [],
   "source": [
    "#overlay cell mask on motion corrected movie to get cell intensity\n",
    "\n",
    "mean_intensities_cell = []\n",
    "\n",
    "for i in m_rig:\n",
    "    cell_mask = i * mask_np_dilated_2\n",
    "    mean_intensity_cell = np.mean(cell_mask[mask_np_dilated_2>0])\n",
    "    mean_intensities_cell.append(mean_intensity_cell)"
   ]
  },
  {
   "cell_type": "code",
   "execution_count": 23,
   "id": "9738f651-2bac-4d31-bd16-affde9bad1f3",
   "metadata": {},
   "outputs": [],
   "source": [
    "#overlay b.g mask on motion corrected movie to get background intensity\n",
    "\n",
    "mean_intensities_bg = []\n",
    "\n",
    "for j in m_rig:\n",
    "    bg_mask = j * binary_mask_bg\n",
    "    mean_intensity_bg = np.mean(bg_mask[binary_mask_bg>0])\n",
    "    mean_intensities_bg.append(mean_intensity_bg)"
   ]
  },
  {
   "cell_type": "code",
   "execution_count": 24,
   "id": "ae9820b0-1d79-41fc-be1a-1d7a3127fa19",
   "metadata": {},
   "outputs": [],
   "source": [
    "mean_intensities_segmented_cell_arr = np.array(mean_intensities_cell)\n",
    "mean_intensities_bg_arr = np.array(mean_intensities_bg)\n",
    "\n",
    "bg_corrected_signal = mean_intensities_segmented_cell_arr - mean_intensities_bg_arr"
   ]
  },
  {
   "cell_type": "code",
   "execution_count": 25,
   "id": "1bbab169-e904-4a27-a50c-7b333a9bc804",
   "metadata": {},
   "outputs": [],
   "source": [
    "#for sHEK movies\n",
    "#Photobleaching correction\n",
    "#using interpolation\n",
    "smoothed_intensities_speed = medfilt(mean_intensities_cell, kernel_size=1975)\n",
    "smoothed_intensities_sensitivity = medfilt(bg_corrected_signal, kernel_size=1975)"
   ]
  },
  {
   "cell_type": "code",
   "execution_count": 26,
   "id": "12e6437f-a035-4646-96cf-e9f19523dd65",
   "metadata": {},
   "outputs": [],
   "source": [
    "subtracted_intensity_speed = mean_intensities_cell - smoothed_intensities_speed\n",
    "normalized_intensity = bg_corrected_signal / smoothed_intensities_sensitivity"
   ]
  },
  {
   "cell_type": "code",
   "execution_count": 27,
   "id": "c0ac354e-24a8-470c-94b9-864d47a54848",
   "metadata": {},
   "outputs": [],
   "source": [
    "#Averaging the intensities\n",
    "midpoint_speed = len(subtracted_intensity_speed) // 2\n",
    "midpoint_sensitivity = len(normalized_intensity) // 2\n",
    "\n",
    "if len(subtracted_intensity_speed) % 2 == 0:\n",
    "    mean_of_lobes_speed = (subtracted_intensity_speed[:midpoint_speed] + subtracted_intensity_speed[midpoint_speed:]) / 2\n",
    "else:\n",
    "    mean_of_lobes_speed = (subtracted_intensity_speed[:midpoint_speed] + subtracted_intensity_speed[midpoint_speed+1:]) / 2\n",
    "\n",
    "if len(normalized_intensity) % 2 == 0:\n",
    "    mean_of_lobes_sensitivity = (normalized_intensity[:midpoint_sensitivity] + normalized_intensity[midpoint_sensitivity:]) / 2\n",
    "else:\n",
    "    mean_of_lobes_sensitivity = (normalized_intensity[:midpoint_sensitivity] + normalized_intensity[midpoint_sensitivity+1:]) / 2"
   ]
  },
  {
   "cell_type": "code",
   "execution_count": 28,
   "id": "3376ae19-d420-4519-b858-2ca0915f3de9",
   "metadata": {},
   "outputs": [],
   "source": [
    "frame_rate = 500\n",
    "time_speed = [frame_num / frame_rate for frame_num in range(len(mean_of_lobes_speed))]\n",
    "time_sensitivity =  [frame_num / frame_rate for frame_num in range(len(mean_of_lobes_sensitivity))]"
   ]
  },
  {
   "cell_type": "code",
   "execution_count": 29,
   "id": "414af732-675b-4334-aecd-62f5ceb07d25",
   "metadata": {},
   "outputs": [],
   "source": [
    "#steady state fluorescence\n",
    "time_arr = np.array(time_sensitivity)\n",
    "signal_arr = np.array(mean_of_lobes_sensitivity)\n",
    "\n",
    "start_time_ss = 0.54 #seconds\n",
    "end_time_ss = 0.75 #seconds\n",
    "\n",
    "start_index_ss = np.argmax(time_arr >= start_time_ss)\n",
    "end_index_ss = np.argmax(time_arr >= end_time_ss)\n",
    "\n",
    "fluorescence_ss_range = signal_arr[start_index_ss:end_index_ss]\n",
    "\n",
    "ss_fluorescence = np.mean(fluorescence_ss_range)"
   ]
  },
  {
   "cell_type": "code",
   "execution_count": 30,
   "id": "b7fb034d-b7ef-42da-823a-c4c1d89ffe06",
   "metadata": {},
   "outputs": [
    {
     "name": "stdout",
     "output_type": "stream",
     "text": [
      "Sensitivity of GEVI is  39.09 %\n"
     ]
    }
   ],
   "source": [
    "sensitivity = ((ss_fluorescence - 1)/1)*100\n",
    "sensitivity = np.abs(sensitivity)\n",
    "print(\"Sensitivity of GEVI is \", str(sensitivity)[:5], \"%\")"
   ]
  },
  {
   "cell_type": "code",
   "execution_count": 31,
   "id": "209dba9b-f63e-440b-b0dc-b95873362b99",
   "metadata": {},
   "outputs": [],
   "source": [
    "#speed calculations\n",
    "#Low pass filter to remove noise\n",
    "from scipy.signal import savgol_filter\n",
    "\n",
    "window_size = 11\n",
    "poly_order = 1 \n",
    "mean_of_lobes_smoothed = savgol_filter(mean_of_lobes_speed, window_size, poly_order)"
   ]
  },
  {
   "cell_type": "code",
   "execution_count": 32,
   "id": "0dace3d7-36c5-4d2f-8927-993bc2143c44",
   "metadata": {},
   "outputs": [],
   "source": [
    "x = np.array(time_speed) \n",
    "y = mean_of_lobes_smoothed\n",
    "\n",
    "x_data = x[(x >= 0.525) & (x <= 0.54)]\n",
    "y_data = y[(x >= 0.525) & (x <= 0.54)]\n",
    "\n",
    "gradient = np.gradient(y_data,x_data)"
   ]
  },
  {
   "cell_type": "code",
   "execution_count": 2,
   "id": "f7876984-f412-41bc-bc63-e05bc8cf9ff0",
   "metadata": {},
   "outputs": [
    {
     "ename": "NameError",
     "evalue": "name 'time_speed' is not defined",
     "output_type": "error",
     "traceback": [
      "\u001b[1;31m---------------------------------------------------------------------------\u001b[0m",
      "\u001b[1;31mNameError\u001b[0m                                 Traceback (most recent call last)",
      "Cell \u001b[1;32mIn[2], line 2\u001b[0m\n\u001b[0;32m      1\u001b[0m \u001b[38;5;28;01mimport\u001b[39;00m \u001b[38;5;21;01mnumpy\u001b[39;00m \u001b[38;5;28;01mas\u001b[39;00m \u001b[38;5;21;01mnp\u001b[39;00m\n\u001b[1;32m----> 2\u001b[0m x_actual \u001b[38;5;241m=\u001b[39m np\u001b[38;5;241m.\u001b[39marray(\u001b[43mtime_speed\u001b[49m) \n\u001b[0;32m      3\u001b[0m y_actual \u001b[38;5;241m=\u001b[39m mean_of_lobes_speed\n\u001b[0;32m      5\u001b[0m \u001b[38;5;28;01mif\u001b[39;00m \u001b[38;5;28mall\u001b[39m(a \u001b[38;5;241m>\u001b[39m \u001b[38;5;241m0\u001b[39m \u001b[38;5;28;01mfor\u001b[39;00m a \u001b[38;5;129;01min\u001b[39;00m gradient):\n",
      "\u001b[1;31mNameError\u001b[0m: name 'time_speed' is not defined"
     ]
    }
   ],
   "source": [
    "x_actual = np.array(time_speed) \n",
    "y_actual = mean_of_lobes_speed\n",
    "\n",
    "if all(a > 0 for a in gradient):\n",
    "    def biexponential(x, a, x1, b, x2):\n",
    "        return a * np.exp((x / x1)) + b * np.exp((x / x2))\n",
    "\n",
    "    x_subset = x_actual[(x_actual >= 0.515) & (x_actual <= 0.54)]\n",
    "    y_subset = y_actual[(x_actual >= 0.515) & (x_actual <= 0.54)]\n",
    "    popt, pcov = curve_fit(biexponential, x_subset, y_subset, maxfev = 500000)\n",
    "    y_fit = biexponential(x_subset, *popt)\n",
    "\n",
    "    plt.plot(x_subset, y_subset, label='Original Data')\n",
    "    plt.plot(x_subset, y_fit, label='Fitted Curve', color='red')\n",
    "    plt.xlabel('Time (seconds)')\n",
    "    plt.ylabel('Change in Fluorescence (A.U.)')\n",
    "    plt.legend()\n",
    "    plt.show\n",
    "    \n",
    "    upswing_slow_constant = min([popt[1], popt[3]])\n",
    "    upswing_fast_constant = max([popt[1], popt[3]])\n",
    "    w = popt[0]/popt[2]\n",
    "    ratio = w/(1+w)\n",
    "    c = np.abs(ratio)\n",
    "    if c < 0.1 or c == 1:\n",
    "        speed = 1/upswing_fast_constant\n",
    "        speed = np.abs(speed)\n",
    "        print(\"Speed of GEVI is \", str(speed)[:5], \"/seconds\")\n",
    "        print(\"Speed of GEVI calculated from fast time constant only\")\n",
    "\n",
    "    elif c > 1:\n",
    "        speed = 1/upswing_slow_constant\n",
    "        speed = np.abs(speed)\n",
    "        print(\"Speed of GEVI is \", str(speed)[:5], \"/seconds\")\n",
    "        print(\"Speed of GEVI calculated from slow time constant only\")\n",
    "\n",
    "    else: \n",
    "        speed = 1/((upswing_fast_constant * (1-c)) + (c * upswing_slow_constant))\n",
    "        speed = np.abs(speed)\n",
    "        print(\"Speed of GEVI is \", str(speed)[:5], \"/seconds\")\n",
    "        print(\"Fast time constant has \", str((1-c)*100)[:5], \"% contribution whereas slow time constant has \", str((c)*100)[:5], \"% contribution to the speed calculation\")\n",
    "    \n",
    "else:\n",
    "    print(\"The GEVI is very fast\")"
   ]
  },
  {
   "cell_type": "code",
   "execution_count": 34,
   "id": "ae139889-6a3c-4175-8cac-265c7861586d",
   "metadata": {},
   "outputs": [],
   "source": [
    "# Membrane intensity / cell intensity\n",
    "# z-projected image of motion corrected movie\n",
    "\n",
    "frs = []\n",
    "for fr in m_rig:\n",
    "    frs.append(fr)\n",
    "\n",
    "fr_array = np.array(frs)\n",
    "z_projection = np.mean(fr_array, axis = 0).astype(np.float32)"
   ]
  },
  {
   "cell_type": "code",
   "execution_count": 36,
   "id": "f230317a-24b3-4272-a142-1a9ccb737dcd",
   "metadata": {},
   "outputs": [],
   "source": [
    "dilated_binary_mask = 1 - mask_np_dilated_2\n",
    "#dilated_binary_mask_resized = cv2.resize(dilated_binary_mask, (z_projection.shape[1], z_projection.shape[0]))"
   ]
  },
  {
   "cell_type": "code",
   "execution_count": 37,
   "id": "f78623be-f3c0-4e4f-a8a2-dfb680eedc95",
   "metadata": {},
   "outputs": [],
   "source": [
    "#background subtraction in z_projected image\n",
    "blur = cv2.bilateralFilter(z_projection,75,75,75)"
   ]
  },
  {
   "cell_type": "code",
   "execution_count": 38,
   "id": "87b45c60-5593-43ad-a20b-288c7a1d0722",
   "metadata": {},
   "outputs": [],
   "source": [
    "cell_region = blur[dilated_binary_mask == 0]\n",
    "mean_intensity_whole_cell = np.mean(cell_region)"
   ]
  },
  {
   "cell_type": "code",
   "execution_count": 39,
   "id": "6531925f-565b-48d2-89a1-09563785fc0d",
   "metadata": {},
   "outputs": [],
   "source": [
    "contours, _ = cv2.findContours(dilated_binary_mask, cv2.RETR_EXTERNAL, cv2.CHAIN_APPROX_SIMPLE)\n",
    "contour_mask = np.zeros_like(dilated_binary_mask)\n",
    "region = cv2.drawContours(contour_mask, contours, -1, (255), thickness=1)"
   ]
  },
  {
   "cell_type": "code",
   "execution_count": 40,
   "id": "680359b9-0b02-4ce8-bb8d-b83faa263054",
   "metadata": {},
   "outputs": [],
   "source": [
    "membrane = blur[region == 255]\n",
    "mean_intensity_membrane = np.mean(membrane)"
   ]
  },
  {
   "cell_type": "code",
   "execution_count": 42,
   "id": "060e6273-b6e2-4617-bead-0ae0e64ffa2b",
   "metadata": {},
   "outputs": [
    {
     "name": "stdout",
     "output_type": "stream",
     "text": [
      "mean intensity membrane / mean intensity of whole cell :  0.523\n"
     ]
    }
   ],
   "source": [
    "intensity_ratio = mean_intensity_membrane / mean_intensity_whole_cell\n",
    "print('mean intensity membrane / mean intensity of whole cell : ', str(intensity_ratio)[:5])"
   ]
  }
 ],
 "metadata": {
  "kernelspec": {
   "display_name": "Python 3 (ipykernel)",
   "language": "python",
   "name": "python3"
  },
  "language_info": {
   "codemirror_mode": {
    "name": "ipython",
    "version": 3
   },
   "file_extension": ".py",
   "mimetype": "text/x-python",
   "name": "python",
   "nbconvert_exporter": "python",
   "pygments_lexer": "ipython3",
   "version": "3.10.8"
  }
 },
 "nbformat": 4,
 "nbformat_minor": 5
}
